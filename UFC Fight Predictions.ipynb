{
 "cells": [
  {
   "cell_type": "code",
   "execution_count": 3,
   "id": "2b1ee965",
   "metadata": {},
   "outputs": [],
   "source": [
    "from bs4 import BeautifulSoup, SoupStrainer\n",
    "import urllib.request\n",
    "from datetime import date\n",
    "from dateutil.parser import parse\n",
    "import pandas as pd\n",
    "from tqdm import tqdm"
   ]
  },
  {
   "cell_type": "code",
   "execution_count": 41,
   "id": "46c305c9",
   "metadata": {},
   "outputs": [
    {
     "name": "stdout",
     "output_type": "stream",
     "text": [
      "721\n"
     ]
    },
    {
     "name": "stderr",
     "output_type": "stream",
     "text": [
      "100%|████████████████████████████████████████████████████████████████████████████████| 721/721 [06:10<00:00,  1.95it/s]\n"
     ]
    },
    {
     "name": "stdout",
     "output_type": "stream",
     "text": [
      "(8044, 4)\n",
      "                                               Name         Fighter_1  \\\n",
      "0  2025-02-15: Jared Cannonier VS Gregory Rodrigues   Jared Cannonier   \n",
      "1        2025-02-15: Youssef Zalal VS Calvin Kattar     Youssef Zalal   \n",
      "2       2025-02-15: Edmen Shahbazyan VS Dylan Budka  Edmen Shahbazyan   \n",
      "3       2025-02-15: Nazim Sadykhov VS Ismael Bonfim    Nazim Sadykhov   \n",
      "4      2025-02-15: Andre Petroski VS Rodolfo Vieira    Andre Petroski   \n",
      "5       2025-02-15: Jose Delgado VS Connor Matthews      Jose Delgado   \n",
      "6           2025-02-15: Angela Hill VS Ketlen Souza       Angela Hill   \n",
      "7       2025-02-15: Rafael Estevam VS Jesus Aguilar    Rafael Estevam   \n",
      "8      2025-02-15: Gabriel Bonfim VS Khaos Williams    Gabriel Bonfim   \n",
      "9         2025-02-15: Elijah Smith VS Vince Morales      Elijah Smith   \n",
      "\n",
      "           Fighter_2  Decision  \n",
      "0  Gregory Rodrigues         1  \n",
      "1      Calvin Kattar         1  \n",
      "2        Dylan Budka         1  \n",
      "3      Ismael Bonfim         1  \n",
      "4     Rodolfo Vieira         1  \n",
      "5    Connor Matthews         1  \n",
      "6       Ketlen Souza         1  \n",
      "7      Jesus Aguilar         1  \n",
      "8     Khaos Williams         1  \n",
      "9      Vince Morales         1  \n"
     ]
    }
   ],
   "source": [
    "def get_UFC_Event_URLs(page=1,verbose=False):\n",
    "    html = urllib.request.urlopen('http://ufcstats.com/statistics/events/completed?page={}'.format(page)).read()\n",
    "    if verbose:\n",
    "        print('http://ufcstats.com/statistics/events/completed?page={}'.format(page))\n",
    "    rows = BeautifulSoup(html,'html.parser', parse_only=SoupStrainer(class_=\"b-statistics__table-row\"))\n",
    "    urls=[]\n",
    "    for row in rows:\n",
    "##        print(row)\n",
    "        dates = row.find_all(class_=\"b-statistics__date\")\n",
    "        if len(dates)>0:\n",
    "            d=parse(dates[0].string.strip()).date()\n",
    "            if d<date.today():\n",
    "                a=row.find_all(\"a\")\n",
    "##                print(a)\n",
    "                for url in a:\n",
    "##                    print(url)\n",
    "                    if url.has_attr(\"href\"):\n",
    "                        urls.append([d,url['href']])\n",
    "    if verbose:\n",
    "        print(\"Page {} completed\".format(page))\n",
    "    if len(urls)>0:\n",
    "        nextUrls = get_UFC_Event_URLs(page=page+1,verbose=verbose)\n",
    "        urls.extend(nextUrls)\n",
    "    return urls\n",
    "def get_Fight_results(url):\n",
    "    html = urllib.request.urlopen(url).read()\n",
    "    rows = BeautifulSoup(html,'html.parser',parse_only=SoupStrainer(\"tr\"))\n",
    "    fights = []\n",
    "    for row in rows:\n",
    "        cols = row.find_all(\"td\")\n",
    "        if len(cols)<2: continue\n",
    "        w = len(cols[0].find_all(\"p\"))==1\n",
    "        f = [p.text.strip() for p in cols[1].find_all(\"p\")]\n",
    "##        print(f[0],\"beat\" if w else \"drew\",f[1])\n",
    "        fights.append([f,int(w)])\n",
    "    return fights\n",
    "dfs=[]\n",
    "i=0\n",
    "urls=get_UFC_Event_URLs()\n",
    "print(len(urls))\n",
    "for fight in tqdm(urls):\n",
    "    d,url = fight\n",
    "#     print(d)\n",
    "#     if d<parse(\"2024-08-10\").date():\n",
    "#         break\n",
    "    fights = get_Fight_results(url)\n",
    "    for f in fights:\n",
    "        a,b,w = f[0][0],f[0][1],f[1]\n",
    "        name = str(d)+\": \"+a+\" VS \"+b\n",
    "        dfs.append(pd.DataFrame({\"Name\":[name],\"Fighter_1\":[a],\"Fighter_2\":[b],\"Decision\":[w]},index=([i])))\n",
    "        i+=1\n",
    "df = pd.concat(dfs)\n",
    "print(df.shape)\n",
    "print(df.head(10))"
   ]
  },
  {
   "cell_type": "code",
   "execution_count": 45,
   "id": "c5e0dfc7",
   "metadata": {},
   "outputs": [
    {
     "name": "stdout",
     "output_type": "stream",
     "text": [
      "                                           Name          Opponent  Decision\n",
      "0         2016-07-09: Brock Lesnar VS Mark Hunt         Mark Hunt         0\n",
      "1  2011-12-30: Alistair Overeem VS Brock Lesnar  Alistair Overeem        -1\n",
      "2    2010-10-23: Cain Velasquez VS Brock Lesnar    Cain Velasquez        -1\n",
      "3      2010-07-03: Brock Lesnar VS Shane Carwin      Shane Carwin         1\n",
      "4         2009-07-11: Brock Lesnar VS Frank Mir         Frank Mir         1\n",
      "5     2008-11-15: Brock Lesnar VS Randy Couture     Randy Couture         1\n",
      "6     2008-08-09: Brock Lesnar VS Heath Herring     Heath Herring         1\n",
      "7         2008-02-02: Frank Mir VS Brock Lesnar         Frank Mir        -1\n"
     ]
    }
   ],
   "source": [
    "def getRecord(fighter):\n",
    "    dfs = []\n",
    "    rows = df.query('Fighter_1==\"{0}\" or Fighter_2==\"{0}\"'.format(fighter))\n",
    "    rows = rows.reset_index()\n",
    "    for ind, row in rows.iterrows():\n",
    "        if row['Fighter_1']==fighter:\n",
    "            dfs.append(pd.DataFrame({\"Name\":row['Name'],\"Opponent\":row['Fighter_2'],\"Decision\":row['Decision']},index=[ind]))\n",
    "        else:\n",
    "            dfs.append(pd.DataFrame({\"Name\":row['Name'],\"Opponent\":row['Fighter_1'],\"Decision\":-row['Decision']},index=[ind]))\n",
    "    return pd.concat(dfs)\n",
    "print(getRecord(\"Brock Lesnar\"))"
   ]
  },
  {
   "cell_type": "code",
   "execution_count": null,
   "id": "6044529e",
   "metadata": {},
   "outputs": [
    {
     "name": "stderr",
     "output_type": "stream",
     "text": [
      "100%|██████████████████████████████████████████████████████████████████████████████| 2568/2568 [00:59<00:00, 43.10it/s]\n",
      "C:\\Users\\aryad\\AppData\\Local\\Temp\\ipykernel_10076\\3873592330.py:13: FutureWarning: The behavior of DataFrame concatenation with empty or all-NA entries is deprecated. In a future version, this will no longer exclude empty or all-NA columns when determining the result dtypes. To retain the old behavior, exclude the relevant entries before the concat operation.\n",
      "  return pd.concat(dfs)\n"
     ]
    }
   ],
   "source": [
    "def knownProbabilities():\n",
    "    dfs = []\n",
    "    fighters = set(df['Fighter_1'].unique())\n",
    "    fighters.update(set(df['Fighter_2'].unique()))\n",
    "    for i in tqdm(fighters):\n",
    "        rdf = getRecord(i)\n",
    "        rdf = rdf.reset_index()\n",
    "        p={j:[0,0] for j in fighters}\n",
    "        for index, row in rdf.iterrows():\n",
    "            p[row['Opponent']][0]+=(row['Decision']+1)/2\n",
    "            p[row['Opponent']][1]+=1\n",
    "        dfs.append(pd.DataFrame({j:p[j][0]/p[j][1] if p[j][1]>0 else None for j in fighters},index=[i]))\n",
    "    return pd.concat(dfs)\n",
    "kcpt = knownProbabilities()"
   ]
  },
  {
   "cell_type": "code",
   "execution_count": null,
   "id": "5c5e8aaa",
   "metadata": {},
   "outputs": [],
   "source": [
    "print(kcpt.shape)"
   ]
  }
 ],
 "metadata": {
  "kernelspec": {
   "display_name": "Python 3 (ipykernel)",
   "language": "python",
   "name": "python3"
  },
  "language_info": {
   "codemirror_mode": {
    "name": "ipython",
    "version": 3
   },
   "file_extension": ".py",
   "mimetype": "text/x-python",
   "name": "python",
   "nbconvert_exporter": "python",
   "pygments_lexer": "ipython3",
   "version": "3.11.0"
  }
 },
 "nbformat": 4,
 "nbformat_minor": 5
}
